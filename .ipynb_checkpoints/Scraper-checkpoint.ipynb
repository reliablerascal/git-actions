{
 "cells": [
  {
   "cell_type": "code",
   "execution_count": 1,
   "id": "42805fd0",
   "metadata": {},
   "outputs": [],
   "source": [
    "import requests\n",
    "from bs4 import BeautifulSoup"
   ]
  },
  {
   "cell_type": "code",
   "execution_count": 2,
   "id": "fbaacd5b",
   "metadata": {},
   "outputs": [],
   "source": [
    "response = requests.get(\"https://www.lrt.lt/en/news-in-english\")\n",
    "doc = BeautifulSoup(response.content)"
   ]
  },
  {
   "cell_type": "code",
   "execution_count": 5,
   "id": "af9e23c2",
   "metadata": {},
   "outputs": [
    {
     "data": {
      "text/plain": [
       "42"
      ]
     },
     "execution_count": 5,
     "metadata": {},
     "output_type": "execute_result"
    }
   ],
   "source": [
    "items = doc.select(\".news\")\n",
    "len(items)"
   ]
  },
  {
   "cell_type": "code",
   "execution_count": 6,
   "id": "b9a3078b",
   "metadata": {},
   "outputs": [
    {
     "data": {
      "text/plain": [
       "<div class=\"news\">\n",
       "<div class=\"media-block\">\n",
       "<div class=\"media-block__container\">\n",
       "<div class=\"media-block__wrapper\">\n",
       "<img alt=\"Gitanas NausÄda, Ingrida Å imonytÄ, Arvydas AnuÅ¡auskas\" class=\"media-block__image js-lazy lazy-load\" data-src=\"/img/2023/02/18/1451044-637891-150x84.jpg\" src=\"/images/pxl.gif\" title=\"Gitanas NausÄda, Ingrida Å imonytÄ, Arvydas AnuÅ¡auskas\"/>\n",
       "</div>\n",
       "<a aria-label=\"Lithuanian PM voices confidence in defence minister\" class=\"media-block__link\" href=\"/en/news-in-english/19/2050571/lithuanian-pm-voices-confidence-in-defence-minister\" title=\"Lithuanian PM voices confidence in defence minister\"></a>\n",
       "</div>\n",
       "</div>\n",
       "<div class=\"news__content\">\n",
       "<div class=\"info-block\">\n",
       "<a class=\"info-block__link\" href=\"/en/news-in-english\" title=\"News\">News</a>\n",
       "<span class=\"info-block__time-before\" title=\"2023.08.04 17:03\"> <strong>4 h ago</strong>\n",
       "</span>\n",
       "</div>\n",
       "<h3 class=\"news__title\"><a href=\"/en/news-in-english/19/2050571/lithuanian-pm-voices-confidence-in-defence-minister\" title=\"Lithuanian PM voices confidence in defence minister\">Lithuanian PM voices confidence in defence minister</a></h3>\n",
       "</div>\n",
       "</div>"
      ]
     },
     "execution_count": 6,
     "metadata": {},
     "output_type": "execute_result"
    }
   ],
   "source": [
    "items[0]"
   ]
  },
  {
   "cell_type": "code",
   "execution_count": null,
   "id": "0251260b",
   "metadata": {},
   "outputs": [],
   "source": [
    "articles = []\n",
    "for item in items:\n",
    "    url = \n",
    "    headline = \n",
    "    image = "
   ]
  }
 ],
 "metadata": {
  "kernelspec": {
   "display_name": "Python 3 (ipykernel)",
   "language": "python",
   "name": "python3"
  },
  "language_info": {
   "codemirror_mode": {
    "name": "ipython",
    "version": 3
   },
   "file_extension": ".py",
   "mimetype": "text/x-python",
   "name": "python",
   "nbconvert_exporter": "python",
   "pygments_lexer": "ipython3",
   "version": "3.10.12"
  }
 },
 "nbformat": 4,
 "nbformat_minor": 5
}
